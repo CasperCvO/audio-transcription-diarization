{
 "cells": [
  {
   "cell_type": "code",
   "execution_count": 1,
   "metadata": {},
   "outputs": [],
   "source": [
    "import whisper\n",
    "from pyannote.audio import Pipeline\n",
    "import torch\n",
    "from tqdm import tqdm\n"
   ]
  },
  {
   "cell_type": "code",
   "execution_count": 3,
   "metadata": {},
   "outputs": [],
   "source": [
    "# Load environment variables from .env file\n",
    "load_dotenv()\n",
    "\n",
    "# Get Hugging Face token from environment variables\n",
    "HF_TOKEN = os.getenv('HF_TOKEN')\n",
    "if not HF_TOKEN:\n",
    "    raise ValueError(\"HF_TOKEN not found in environment variables. Please set it up first.\")"
   ]
  },
  {
   "cell_type": "code",
   "execution_count": null,
   "metadata": {},
   "outputs": [],
   "source": [
    "\n",
    "# First, initialize both models with progress bar\n",
    "print(\"Loading models...\")\n",
    "with tqdm(total=2, desc=\"Loading models\") as pbar:\n",
    "    whisper_model = whisper.load_model(\"large-v3-turbo\")\n",
    "    pbar.update(1)\n",
    "    pipeline = Pipeline.from_pretrained(\"pyannote/speaker-diarization-3.1\",\n",
    "                                      use_auth_token= HF_token)\n",
    "    pbar.update(1)\n"
   ]
  },
  {
   "cell_type": "code",
   "execution_count": null,
   "metadata": {},
   "outputs": [],
   "source": [
    "\n",
    "# Process the audio file for diarization \n",
    "diarization = pipeline(\"cutout_1.wav\")\n"
   ]
  },
  {
   "cell_type": "code",
   "execution_count": null,
   "metadata": {},
   "outputs": [],
   "source": [
    "for turn, _, speaker in diarization.itertracks(yield_label=True):\n",
    "    print(f\"start={turn.start:.1f}s stop={turn.end:.1f}s speaker_{speaker}\")"
   ]
  },
  {
   "cell_type": "code",
   "execution_count": 19,
   "metadata": {},
   "outputs": [],
   "source": [
    "audio = whisper.load_audio(\"cutout_1.wav\")  "
   ]
  },
  {
   "cell_type": "code",
   "execution_count": null,
   "metadata": {},
   "outputs": [],
   "source": [
    "# Transcribe the audio file\n",
    "result = whisper_model.transcribe(cutout_1.wav)\n",
    "\n"
   ]
  },
  {
   "cell_type": "code",
   "execution_count": null,
   "metadata": {},
   "outputs": [],
   "source": [
    "print(result)"
   ]
  },
  {
   "cell_type": "code",
   "execution_count": 15,
   "metadata": {},
   "outputs": [],
   "source": [
    "with open(\"transcription.txt\", \"w\") as f:\n",
    "    f.write(result['text'])"
   ]
  },
  {
   "cell_type": "code",
   "execution_count": null,
   "metadata": {},
   "outputs": [],
   "source": [
    "# Print results with speaker diarization\n",
    "print(\"\\nProcessing final results...\")\n",
    "diarization_list = list(diarization.itertracks(yield_label=True))"
   ]
  },
  {
   "cell_type": "code",
   "execution_count": null,
   "metadata": {},
   "outputs": [],
   "source": [
    "# Assuming result is the output from whisper that contains segments\n",
    "with open('transcription_with_speakers.txt', 'w', encoding='utf-8') as f:\n",
    "    \n",
    "     # Iterate through each transcribed segment\n",
    "    for segment in result['segments']:\n",
    "        segment_start = segment['start']\n",
    "        segment_end = segment['end']\n",
    "        segment_text = segment['text']\n",
    "        \n",
    "        # Find the speaker who was talking during this segment\n",
    "        max_overlap = 0\n",
    "        current_speaker = None\n",
    "        \n",
    "        for turn, _, speaker in diarization_list:\n",
    "            # Calculate overlap between segment and diarization\n",
    "            overlap_start = max(segment_start, turn.start)\n",
    "            overlap_end = min(segment_end, turn.end)\n",
    "            overlap = max(0, overlap_end - overlap_start)\n",
    "            \n",
    "            if overlap > max_overlap:\n",
    "                max_overlap = overlap\n",
    "                current_speaker = speaker\n",
    "        \n",
    "        # Format and write the line with the correct speaker and text\n",
    "        start_time = f\"{segment_start:.1f}s\"\n",
    "        end_time = f\"{segment_end:.1f}s\"\n",
    "        line = f\"[{start_time} -> {end_time}] {current_speaker}: {segment_text.strip()}\\n\"\n",
    "        print(line.strip())\n",
    "        f.write(line)"
   ]
  }
 ],
 "metadata": {
  "kernelspec": {
   "display_name": ".venv",
   "language": "python",
   "name": "python3"
  },
  "language_info": {
   "codemirror_mode": {
    "name": "ipython",
    "version": 3
   },
   "file_extension": ".py",
   "mimetype": "text/x-python",
   "name": "python",
   "nbconvert_exporter": "python",
   "pygments_lexer": "ipython3",
   "version": "3.12.8"
  }
 },
 "nbformat": 4,
 "nbformat_minor": 2
}
