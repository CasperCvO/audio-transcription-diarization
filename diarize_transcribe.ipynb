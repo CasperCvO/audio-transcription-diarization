{
 "cells": [
  {
   "cell_type": "markdown",
   "metadata": {},
   "source": [
    "# Audio Transcription with Speaker Diarization\n",
    "\n",
    "This notebook combines Whisper for transcription and Pyannote for speaker diarization to create a complete transcript with speaker identification."
   ]
  },
  {
   "cell_type": "code",
   "execution_count": null,
   "metadata": {},
   "outputs": [],
   "source": [
    "# Required imports\n",
    "import whisper\n",
    "from pyannote.audio import Pipeline\n",
    "import torch\n",
    "from tqdm import tqdm\n",
    "import os \n",
    "from dotenv import load_dotenv"
   ]
  },
  {
   "cell_type": "markdown",
   "metadata": {},
   "source": [
    "## Configuration\n",
    "Set up your Hugging Face authentication token"
   ]
  },
  {
   "cell_type": "code",
   "execution_count": null,
   "metadata": {},
   "outputs": [],
   "source": [
    "# Load environment variables from .env file\n",
    "load_dotenv()\n",
    "\n",
    "# Get Hugging Face token from environment variables\n",
    "HF_TOKEN = os.getenv('HF_TOKEN')\n",
    "if not HF_TOKEN:\n",
    "    raise ValueError(\"HF_TOKEN not found in environment variables. Please set it up first.\")"
   ]
  },
  {
   "cell_type": "markdown",
   "metadata": {},
   "source": [
    "## Model Initialization\n",
    "Load both Whisper and Pyannote models with progress tracking"
   ]
  },
  {
   "cell_type": "code",
   "execution_count": null,
   "metadata": {},
   "outputs": [],
   "source": [
    "%%time\n",
    "print(\"Loading models...\")\n",
    "with tqdm(total=2, desc=\"Loading models\") as pbar:\n",
    "    whisper_model = whisper.load_model(\"large-v3\")\n",
    "    pbar.update(1)\n",
    "    pipeline = Pipeline.from_pretrained(\"pyannote/speaker-diarization-3.1\",\n",
    "                                       use_auth_token=HF_TOKEN)\n",
    "    pbar.update(1)\n",
    "print(\"Models loaded successfully!\")"
   ]
  },
  {
   "cell_type": "code",
   "execution_count": null,
   "metadata": {},
   "outputs": [],
   "source": [
    "# run pipeline on correct device\n",
    "if torch.cuda.is_available():\n",
    "    device = \"cuda\"\n",
    "    device_name = torch.cuda.get_device_name(0)\n",
    "    print(f\"Pipeline running on: {device} - {device_name}\")\n",
    "else:\n",
    "    device = \"cpu\"\n",
    "    print(f\"Pipeline running on: {device}\")\n",
    "\n",
    "pipeline = pipeline.to(torch.device(device))"
   ]
  },
  {
   "cell_type": "markdown",
   "metadata": {},
   "source": [
    "## Process Audio File\n",
    "Load and process the audio file for both transcription and diarization"
   ]
  },
  {
   "cell_type": "code",
   "execution_count": null,
   "metadata": {},
   "outputs": [],
   "source": [
    "%%time\n",
    "# Define audio file path\n",
    "AUDIO_FILE = \"Audio/audio.wav\"\n",
    "\n",
    "# Load audio file\n",
    "audio = whisper.load_audio(AUDIO_FILE)\n",
    "\n",
    "# Process diarization\n",
    "print(\"Processing speaker diarization...\")\n",
    "diarization = pipeline(AUDIO_FILE)\n",
    "\n",
    "# Create list of speaker segments\n",
    "diarization_list = list(diarization.itertracks(yield_label=True))\n",
    "\n",
    "# Display speaker segments\n",
    "print(\"\\nSpeaker segments:\")\n",
    "for turn, _, speaker in diarization_list:\n",
    "    print(f\"start={turn.start:.1f}s stop={turn.end:.1f}s speaker_{speaker}\")"
   ]
  },
  {
   "cell_type": "markdown",
   "metadata": {},
   "source": [
    "## Transcribe Audio\n",
    "Use Whisper to transcribe the audio content"
   ]
  },
  {
   "cell_type": "code",
   "execution_count": null,
   "metadata": {},
   "outputs": [],
   "source": [
    "%%time\n",
    "# Ensure the Transcription directory exists\n",
    "os.makedirs(\"Transcription\", exist_ok=True)\n",
    "\n",
    "# Transcribe the audio file\n",
    "print(\"Transcribing audio...\")\n",
    "result = whisper_model.transcribe(AUDIO_FILE)\n",
    "\n",
    "# Save raw transcription\n",
    "output_path = os.path.join(\"Transcription\", \"transcription.txt\")\n",
    "with open(output_path, \"w\", encoding='utf-8') as f:\n",
    "    f.write(result['text'])\n",
    "\n",
    "print(f\"Raw transcription saved to '{output_path}'\")"
   ]
  },
  {
   "cell_type": "markdown",
   "metadata": {},
   "source": [
    "## Combine Transcription with Speaker Information\n",
    "Merge the transcription with speaker identification"
   ]
  },
  {
   "cell_type": "code",
   "execution_count": null,
   "metadata": {},
   "outputs": [],
   "source": [
    "print(\"Combining transcription with speaker information...\")\n",
    "\n",
    "output_path = os.path.join(\"Transcription\", \"transcription_with_speakers.txt\")\n",
    "with open(output_path, 'w', encoding='utf-8') as f:\n",
    "    for segment in result['segments']:\n",
    "        segment_start = segment['start']\n",
    "        segment_end = segment['end']\n",
    "        segment_text = segment['text']\n",
    "        \n",
    "        # Find the speaker with maximum overlap for this segment\n",
    "        max_overlap = 0\n",
    "        current_speaker = None\n",
    "        \n",
    "        for turn, _, speaker in diarization_list:\n",
    "            overlap_start = max(segment_start, turn.start)\n",
    "            overlap_end = min(segment_end, turn.end)\n",
    "            overlap = max(0, overlap_end - overlap_start)\n",
    "            \n",
    "            if overlap > max_overlap:\n",
    "                max_overlap = overlap\n",
    "                current_speaker = speaker\n",
    "        \n",
    "        # Format and write the line\n",
    "        start_time = f\"{segment_start:.1f}s\"\n",
    "        end_time = f\"{segment_end:.1f}s\"\n",
    "        line = f\"[{start_time} -> {end_time}] {current_speaker}: {segment_text.strip()}\\n\"\n",
    "        print(line.strip())\n",
    "        f.write(line)\n",
    "\n",
    "print(f\"\\nTranscription with speaker identification saved to '{output_path}'\")"
   ]
  }
 ],
 "metadata": {
  "kernelspec": {
   "display_name": ".venv",
   "language": "python",
   "name": "python3"
  },
  "language_info": {
   "codemirror_mode": {
    "name": "ipython",
    "version": 3
   },
   "file_extension": ".py",
   "mimetype": "text/x-python",
   "name": "python",
   "nbconvert_exporter": "python",
   "pygments_lexer": "ipython3",
   "version": "3.12.8"
  }
 },
 "nbformat": 4,
 "nbformat_minor": 2
}
